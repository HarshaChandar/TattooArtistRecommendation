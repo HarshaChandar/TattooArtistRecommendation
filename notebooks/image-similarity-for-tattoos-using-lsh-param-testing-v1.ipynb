{
 "cells": [
  {
   "cell_type": "markdown",
   "metadata": {},
   "source": [
    "## Importing libaries"
   ]
  },
  {
   "cell_type": "code",
   "execution_count": null,
   "metadata": {
    "ExecuteTime": {
     "end_time": "2019-01-31T21:12:37.132743Z",
     "start_time": "2019-01-31T21:12:36.963021Z"
    }
   },
   "outputs": [],
   "source": [
    "%reload_ext autoreload\n",
    "%autoreload 2\n",
    "%matplotlib inline"
   ]
  },
  {
   "cell_type": "code",
   "execution_count": null,
   "metadata": {
    "ExecuteTime": {
     "end_time": "2019-01-31T21:12:44.138067Z",
     "start_time": "2019-01-31T21:12:41.459607Z"
    }
   },
   "outputs": [],
   "source": [
    "import pandas as pd\n",
    "import pickle\n",
    "import numpy as np\n",
    "from fastai.vision import *\n",
    "from fastai.callbacks.hooks import *\n",
    "import matplotlib.pyplot as plt\n",
    "from lshash import LSHash\n",
    "from PIL import Image\n",
    "from tqdm import tqdm_notebook\n",
    "from pathlib import Path\n",
    "pd.set_option('display.max_columns', 500)"
   ]
  },
  {
   "cell_type": "code",
   "execution_count": null,
   "metadata": {
    "ExecuteTime": {
     "end_time": "2019-01-31T21:12:44.138067Z",
     "start_time": "2019-01-31T21:12:41.459607Z"
    }
   },
   "outputs": [],
   "source": [
    "import sys\n",
    "# Ensure tatrec package is in the path\n",
    "sys.path.append(os.path.join(Path.cwd(), \"..\", \"tatrec\"))"
   ]
  },
  {
   "cell_type": "code",
   "execution_count": null,
   "metadata": {},
   "outputs": [],
   "source": [
    "from tatrec.notebook_funcs import (get_data_from_folder, print_data_classes_size, \n",
    "                                   plot_similar_tats_idx)\n",
    "from tatrec.config import (path_models, path_train_chicago, path_train_cnn, \n",
    "                           path_data_clean, path_models_chicago, path_cleaned_chicago)"
   ]
  },
  {
   "cell_type": "code",
   "execution_count": null,
   "metadata": {},
   "outputs": [],
   "source": [
    "bs = 128   # batch size\n",
    "arch = models.resnet50"
   ]
  },
  {
   "cell_type": "markdown",
   "metadata": {},
   "source": [
    "## Using Locality Sensitive hashing to find near similar images"
   ]
  },
  {
   "cell_type": "code",
   "execution_count": null,
   "metadata": {
    "ExecuteTime": {
     "end_time": "2019-01-31T20:42:36.300586Z",
     "start_time": "2019-01-31T20:42:36.113779Z"
    }
   },
   "outputs": [],
   "source": [
    "## Loading Feature dictionary\n",
    "feature_dict = pickle.load(open(path_cleaned_chicago/\"feature_dict.pkl\",'rb'))"
   ]
  },
  {
   "cell_type": "code",
   "execution_count": null,
   "metadata": {
    "ExecuteTime": {
     "end_time": "2019-01-31T20:42:50.110319Z",
     "start_time": "2019-01-31T20:42:48.496286Z"
    }
   },
   "outputs": [],
   "source": [
    "## Locality Sensitive Hashing\n",
    "# params\n",
    "k = 30 # hash size\n",
    "L = 5 # number of tables\n",
    "d = 512 # Dimension of Feature vector\n",
    "lsh = LSHash(hash_size=k, input_dim=d, num_hashtables=L)"
   ]
  },
  {
   "cell_type": "code",
   "execution_count": null,
   "metadata": {
    "ExecuteTime": {
     "end_time": "2019-01-31T20:42:50.110319Z",
     "start_time": "2019-01-31T20:42:48.496286Z"
    }
   },
   "outputs": [],
   "source": [
    "# LSH on all the images\n",
    "for img_path, vec in tqdm_notebook(feature_dict.items()):\n",
    "    lsh.index(vec.flatten(), extra_data=img_path)"
   ]
  },
  {
   "cell_type": "code",
   "execution_count": null,
   "metadata": {
    "ExecuteTime": {
     "end_time": "2019-01-31T21:09:26.945663Z",
     "start_time": "2019-01-31T21:09:26.719402Z"
    }
   },
   "outputs": [],
   "source": [
    "## Exporting as pickle\n",
    "lsh_model_name = 'lsh' + str(k) + '-' + str(L) + '.pkl'\n",
    "lsh_save_path = path_models_chicago/lsh_model_name\n",
    "if not os.path.isfile(lsh_save_path):\n",
    "    pickle.dump(lsh, open(path_models_chicago/lsh_model_name, \"wb\"))"
   ]
  },
  {
   "cell_type": "markdown",
   "metadata": {},
   "source": [
    "## Visualizing Output"
   ]
  },
  {
   "cell_type": "code",
   "execution_count": null,
   "metadata": {},
   "outputs": [],
   "source": [
    "# Use a sampling of tattoos to visual differences in the parameters\n",
    "output_tats = [438, 1203, 1231, 1285, 1349, 1548, 1870, 2194, 3387, 4585, 5251, 6248]"
   ]
  },
  {
   "cell_type": "code",
   "execution_count": null,
   "metadata": {},
   "outputs": [],
   "source": [
    "for item in output_tats:\n",
    "    print(item)\n",
    "    plot_similar_tats_idx(item, feature_dict, lsh, 5, \"hamming\")"
   ]
  },
  {
   "cell_type": "code",
   "execution_count": null,
   "metadata": {},
   "outputs": [],
   "source": [
    "for item in output_tats:\n",
    "    print(item)\n",
    "    plot_similar_tats_idx(item, feature_dict, lsh, 5, \"l1norm\")"
   ]
  },
  {
   "cell_type": "code",
   "execution_count": null,
   "metadata": {},
   "outputs": [],
   "source": [
    "for item in output_tats:\n",
    "    print(item)\n",
    "    plot_similar_tats_idx(item, feature_dict, lsh, 5, \"euclidean\")"
   ]
  }
 ],
 "metadata": {
  "kernelspec": {
   "display_name": "Python 3",
   "language": "python",
   "name": "python3"
  },
  "language_info": {
   "codemirror_mode": {
    "name": "ipython",
    "version": 3
   },
   "file_extension": ".py",
   "mimetype": "text/x-python",
   "name": "python",
   "nbconvert_exporter": "python",
   "pygments_lexer": "ipython3",
   "version": "3.6.8"
  },
  "toc": {
   "base_numbering": 1,
   "nav_menu": {},
   "number_sections": true,
   "sideBar": true,
   "skip_h1_title": false,
   "title_cell": "Table of Contents",
   "title_sidebar": "Contents",
   "toc_cell": false,
   "toc_position": {},
   "toc_section_display": true,
   "toc_window_display": false
  },
  "varInspector": {
   "cols": {
    "lenName": 16,
    "lenType": 16,
    "lenVar": 40
   },
   "kernels_config": {
    "python": {
     "delete_cmd_postfix": "",
     "delete_cmd_prefix": "del ",
     "library": "var_list.py",
     "varRefreshCmd": "print(var_dic_list())"
    },
    "r": {
     "delete_cmd_postfix": ") ",
     "delete_cmd_prefix": "rm(",
     "library": "var_list.r",
     "varRefreshCmd": "cat(var_dic_list()) "
    }
   },
   "types_to_exclude": [
    "module",
    "function",
    "builtin_function_or_method",
    "instance",
    "_Feature"
   ],
   "window_display": false
  }
 },
 "nbformat": 4,
 "nbformat_minor": 2
}
